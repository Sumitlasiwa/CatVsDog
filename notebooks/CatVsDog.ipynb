{
  "cells": [
    {
      "cell_type": "code",
      "execution_count": 182,
      "metadata": {
        "colab": {
          "base_uri": "https://localhost:8080/"
        },
        "id": "rvZWhyatMlpA",
        "outputId": "218d4a82-f0ec-49b2-e877-bfba1715cbc1"
      },
      "outputs": [],
      "source": [
        "# from google.colab import drive\n",
        "# drive.mount('/content/drive')"
      ]
    },
    {
      "cell_type": "code",
      "execution_count": 183,
      "metadata": {
        "id": "BXIzbbW_IjK_"
      },
      "outputs": [],
      "source": [
        "# !unzip \"/content/drive/My Drive/Pet_images.zip\" -d \"/content/drive/My Drive/PetImages/\"\n"
      ]
    },
    {
      "cell_type": "code",
      "execution_count": 30,
      "metadata": {
        "id": "3Ccle8EgEwnx"
      },
      "outputs": [],
      "source": [
        "\n",
        "\n",
        "import torch\n",
        "import torch.nn as nn\n",
        "import torch.optim as optim\n",
        "from torch.utils.data import Dataset, DataLoader\n",
        "from torchvision import transforms\n",
        "from torchvision.datasets import ImageFolder\n",
        "from tqdm import tqdm\n",
        "import matplotlib.pyplot as plt\n",
        "\n"
      ]
    },
    {
      "cell_type": "code",
      "execution_count": 34,
      "metadata": {},
      "outputs": [],
      "source": [
        "lr = 0.0001\n",
        "batch_size = 16"
      ]
    },
    {
      "cell_type": "code",
      "execution_count": 31,
      "metadata": {
        "id": "Gw-jxo0JFnye"
      },
      "outputs": [],
      "source": [
        "transform = transforms.Compose([\n",
        "            transforms.Resize((227, 227)),\n",
        "            transforms.ToTensor(),\n",
        "            transforms.Normalize(mean = [0.485, 0.456, 0.406], std = [0.229, 0.224, 0.225])\n",
        "])"
      ]
    },
    {
      "cell_type": "code",
      "execution_count": 32,
      "metadata": {
        "id": "XIsdoOv2JRFA"
      },
      "outputs": [],
      "source": [
        "train_dataset = ImageFolder(r\"C:\\Users\\Lenovo\\OneDrive\\Desktop\\CodePlayGround\\CV_with_deep_learning\\CatVsDog\\data\\train\", transform)\n",
        "val_dataset = ImageFolder(r\"C:\\Users\\Lenovo\\OneDrive\\Desktop\\CodePlayGround\\CV_with_deep_learning\\CatVsDog\\data\\val\", transform)\n",
        "test_dataset = ImageFolder(r\"C:\\Users\\Lenovo\\OneDrive\\Desktop\\CodePlayGround\\CV_with_deep_learning\\CatVsDog\\data\\test\", transform)"
      ]
    },
    {
      "cell_type": "code",
      "execution_count": 35,
      "metadata": {
        "id": "kR65h5vdHISE"
      },
      "outputs": [],
      "source": [
        "train_dataloader = DataLoader(train_dataset,\n",
        "                              batch_size=batch_size ,\n",
        "                              shuffle = True,\n",
        "                              num_workers=4,\n",
        "                              pin_memory=True\n",
        ")\n",
        "\n",
        "val_dataloader = DataLoader(val_dataset,\n",
        "                            batch_size=batch_size ,\n",
        "                            shuffle = False,\n",
        "                            num_workers=4,\n",
        "                            pin_memory=True\n",
        ")\n",
        "\n",
        "test_dataloader = DataLoader(test_dataset,\n",
        "                             batch_size=batch_size ,\n",
        "                             shuffle = False,\n",
        "                             num_workers=4,\n",
        "                             pin_memory=True\n",
        ")"
      ]
    },
    {
      "cell_type": "markdown",
      "metadata": {
        "id": "UlOOMTqu9uB1"
      },
      "source": [
        "AlexNet Model Architecture"
      ]
    },
    {
      "cell_type": "code",
      "execution_count": 4,
      "metadata": {
        "id": "nrZBJ0uW9odi"
      },
      "outputs": [],
      "source": [
        "class AlexNet(nn.Module):\n",
        "    def __init__(self):\n",
        "        super().__init__()\n",
        "        self.feature_extractor = nn.Sequential(\n",
        "            nn.Conv2d(3, 96, kernel_size=11, stride=4),\n",
        "            nn.ReLU(inplace=True),\n",
        "            nn.MaxPool2d(3, stride=2),\n",
        "\n",
        "            nn.Conv2d(96, 256, kernel_size=5, stride=1, padding=2),\n",
        "            nn.ReLU(inplace=True),\n",
        "            nn.MaxPool2d(3, stride=2),\n",
        "\n",
        "            nn.Conv2d(256, 384, kernel_size=3, stride=1, padding = 1),\n",
        "            nn.ReLU(inplace=True),\n",
        "\n",
        "            nn.Conv2d(384, 384, kernel_size=3, stride=1,padding=1),\n",
        "            nn.ReLU(inplace=True),\n",
        "\n",
        "            nn.Conv2d(384, 256, kernel_size=3, stride=1,padding=1),\n",
        "            nn.ReLU(inplace=True),\n",
        "            \n",
        "            nn.MaxPool2d(3, stride=2),\n",
        "            nn.Flatten()\n",
        "        )\n",
        "\n",
        "        self.fcn = nn.Sequential(\n",
        "            nn.Linear(9216,4096 ),\n",
        "            nn.ReLU(inplace=True),\n",
        "            nn.Linear(4096, 4096),\n",
        "            nn.ReLU(inplace = True),\n",
        "            nn.Linear(4096, 1)\n",
        "\n",
        "        )\n",
        "\n",
        "    def forward(self, x):\n",
        "        feature_map = self.feature_extractor(x)\n",
        "        output = self.fcn(feature_map)\n",
        "        return output\n",
        "\n",
        "\n",
        "\n",
        "\n"
      ]
    },
    {
      "cell_type": "code",
      "execution_count": null,
      "metadata": {},
      "outputs": [],
      "source": [
        "alexnet=AlexNet()\n"
      ]
    },
    {
      "cell_type": "code",
      "execution_count": 192,
      "metadata": {
        "colab": {
          "base_uri": "https://localhost:8080/"
        },
        "id": "rCXLCnUWFCQR",
        "outputId": "ae739b39-4b03-44f6-b130-11a7993d7ed3"
      },
      "outputs": [],
      "source": [
        "device = \"cuda\" if torch.cuda.is_available() else \"cpu\"\n",
        "model = alexnet.to(device)"
      ]
    },
    {
      "cell_type": "code",
      "execution_count": 193,
      "metadata": {
        "id": "dlITQ3FiACAP"
      },
      "outputs": [],
      "source": [
        "n_epoch = 20\n"
      ]
    },
    {
      "cell_type": "code",
      "execution_count": 194,
      "metadata": {
        "id": "LW5raSCv_UFo"
      },
      "outputs": [],
      "source": [
        "optimizer = optim.Adam(alexnet.parameters(), lr = lr)\n",
        "criteria = nn.BCEWithLogitsLoss()"
      ]
    },
    {
      "cell_type": "code",
      "execution_count": 195,
      "metadata": {},
      "outputs": [],
      "source": [
        "def train_one_step(model, criteria, optimizer, images, labels):\n",
        "    model.train() ## drop out layer, batch normalization \n",
        "    optimizer.zero_grad() \n",
        "\n",
        "    ## Forward Pass \n",
        "\n",
        "    results = model(images)\n",
        "    results = results.squeeze(1)\n",
        "    labels = labels.type(torch.float)\n",
        "    \n",
        "    loss = criteria(results, labels)\n",
        "\n",
        "    ## backward Pass\n",
        "    loss.backward()\n",
        "    optimizer.step()\n",
        "\n",
        "    return loss, results\n",
        "\n",
        "def val_one_step(model, criteria, images, labels):\n",
        "    model.eval()\n",
        "\n",
        "    with torch.no_grad():\n",
        "        ## Forward Pass \n",
        "        results = model(images)\n",
        "        results = results.squeeze(1)\n",
        "        labels = labels.type(torch.float)\n",
        "        loss = criteria(results, labels)\n",
        "    return loss, results"
      ]
    },
    {
      "cell_type": "code",
      "execution_count": 196,
      "metadata": {
        "colab": {
          "base_uri": "https://localhost:8080/"
        },
        "id": "tNUuYJpJ9XHR",
        "outputId": "f653bdd6-0334-428e-b49b-4cfe69d78ff4"
      },
      "outputs": [
        {
          "name": "stderr",
          "output_type": "stream",
          "text": [
            "Training 1 of 20: 100%|██████████| 1094/1094 [02:08<00:00,  8.52it/s]\n",
            "Validation: 100%|██████████| 235/235 [00:12<00:00, 18.86it/s]\n"
          ]
        },
        {
          "name": "stdout",
          "output_type": "stream",
          "text": [
            "Epoch 1 of 20: Train Acc: 0.5839286734868835, Train Loss: 0.6638970061237677\n",
            "Epoch 1 of 20: Val Acc: 0.6865830888236863, Val Loss: 0.5861363076149149\n"
          ]
        },
        {
          "name": "stderr",
          "output_type": "stream",
          "text": [
            "Training 2 of 20: 100%|██████████| 1094/1094 [02:06<00:00,  8.67it/s]\n",
            "Validation: 100%|██████████| 235/235 [00:13<00:00, 16.87it/s]\n"
          ]
        },
        {
          "name": "stdout",
          "output_type": "stream",
          "text": [
            "Epoch 2 of 20: Train Acc: 0.7230382351260216, Train Loss: 0.5425430828027795\n",
            "Epoch 2 of 20: Val Acc: 0.7489997332622033, Val Loss: 0.5054042672857325\n"
          ]
        },
        {
          "name": "stderr",
          "output_type": "stream",
          "text": [
            "Training 3 of 20: 100%|██████████| 1094/1094 [02:06<00:00,  8.62it/s]\n",
            "Validation: 100%|██████████| 235/235 [00:14<00:00, 16.62it/s]\n"
          ]
        },
        {
          "name": "stdout",
          "output_type": "stream",
          "text": [
            "Epoch 3 of 20: Train Acc: 0.7987083500028577, Train Loss: 0.43608119598908224\n",
            "Epoch 3 of 20: Val Acc: 0.8258202187249933, Val Loss: 0.3878887600721197\n"
          ]
        },
        {
          "name": "stderr",
          "output_type": "stream",
          "text": [
            "Training 4 of 20: 100%|██████████| 1094/1094 [02:07<00:00,  8.56it/s]\n",
            "Validation: 100%|██████████| 235/235 [00:13<00:00, 16.97it/s]\n"
          ]
        },
        {
          "name": "stdout",
          "output_type": "stream",
          "text": [
            "Epoch 4 of 20: Train Acc: 0.8449448476881751, Train Loss: 0.3498708434620876\n",
            "Epoch 4 of 20: Val Acc: 0.8370232061883169, Val Loss: 0.35881511331238647\n"
          ]
        },
        {
          "name": "stderr",
          "output_type": "stream",
          "text": [
            "Training 5 of 20: 100%|██████████| 1094/1094 [02:06<00:00,  8.62it/s]\n",
            "Validation: 100%|██████████| 235/235 [00:13<00:00, 16.82it/s]\n"
          ]
        },
        {
          "name": "stdout",
          "output_type": "stream",
          "text": [
            "Epoch 5 of 20: Train Acc: 0.8783219980568098, Train Loss: 0.28495536061170657\n",
            "Epoch 5 of 20: Val Acc: 0.8703654307815417, Val Loss: 0.29622311168845666\n"
          ]
        },
        {
          "name": "stderr",
          "output_type": "stream",
          "text": [
            "Training 6 of 20: 100%|██████████| 1094/1094 [02:06<00:00,  8.64it/s]\n",
            "Validation: 100%|██████████| 235/235 [00:13<00:00, 16.97it/s]\n"
          ]
        },
        {
          "name": "stdout",
          "output_type": "stream",
          "text": [
            "Epoch 6 of 20: Train Acc: 0.8980396639423901, Train Loss: 0.23790278493459088\n",
            "Epoch 6 of 20: Val Acc: 0.8751667111229662, Val Loss: 0.28567802252921654\n"
          ]
        },
        {
          "name": "stderr",
          "output_type": "stream",
          "text": [
            "Training 7 of 20: 100%|██████████| 1094/1094 [02:06<00:00,  8.64it/s]\n",
            "Validation: 100%|██████████| 235/235 [00:13<00:00, 17.03it/s]\n"
          ]
        },
        {
          "name": "stdout",
          "output_type": "stream",
          "text": [
            "Epoch 7 of 20: Train Acc: 0.9209007258387152, Train Loss: 0.19156497594401567\n",
            "Epoch 7 of 20: Val Acc: 0.8930381435049346, Val Loss: 0.2546756019776172\n"
          ]
        },
        {
          "name": "stderr",
          "output_type": "stream",
          "text": [
            "Training 8 of 20: 100%|██████████| 1094/1094 [02:05<00:00,  8.70it/s]\n",
            "Validation: 100%|██████████| 235/235 [00:13<00:00, 17.07it/s] \n"
          ]
        },
        {
          "name": "stdout",
          "output_type": "stream",
          "text": [
            "Epoch 8 of 20: Train Acc: 0.9371892324398469, Train Loss: 0.1534400492335348\n",
            "Epoch 8 of 20: Val Acc: 0.8946385702854095, Val Loss: 0.2623485300769197\n"
          ]
        },
        {
          "name": "stderr",
          "output_type": "stream",
          "text": [
            "Training 9 of 20: 100%|██████████| 1094/1094 [02:05<00:00,  8.69it/s]\n",
            "Validation: 100%|██████████| 235/235 [00:14<00:00, 16.76it/s]\n"
          ]
        },
        {
          "name": "stdout",
          "output_type": "stream",
          "text": [
            "Epoch 9 of 20: Train Acc: 0.9542778762073498, Train Loss: 0.11728860461605344\n",
            "Epoch 9 of 20: Val Acc: 0.8858362229927981, Val Loss: 0.2922737940987374\n"
          ]
        },
        {
          "name": "stderr",
          "output_type": "stream",
          "text": [
            "Training 10 of 20: 100%|██████████| 1094/1094 [02:06<00:00,  8.66it/s]\n",
            "Validation: 100%|██████████| 235/235 [00:13<00:00, 16.91it/s]"
          ]
        },
        {
          "name": "stdout",
          "output_type": "stream",
          "text": [
            "Epoch 10 of 20: Train Acc: 0.9647939646796594, Train Loss: 0.09311726306923929\n",
            "Epoch 10 of 20: Val Acc: 0.9037076553747666, Val Loss: 0.36250005384431555\n",
            "Early stopping at epoch 11 because no improvement in 3 epochs.\n"
          ]
        },
        {
          "name": "stderr",
          "output_type": "stream",
          "text": [
            "\n"
          ]
        }
      ],
      "source": [
        "\n",
        "from tqdm import tqdm\n",
        "\n",
        "\n",
        "best_val_loss = float('inf')\n",
        "patience = 3\n",
        "epoch_without_improvement = 0\n",
        "\n",
        "train_loss, val_loss, train_acc, val_acc = [], [], [], []\n",
        "\n",
        "for epoch in range(1, n_epoch + 1):\n",
        "    \n",
        "    ## Training \n",
        "    train_epoch_loss = 0\n",
        "    train_epoch_correct_prediction = 0\n",
        "    for train_images, train_labels in tqdm(train_dataloader, desc=f'Training {epoch} of {n_epoch}'):\n",
        "        train_images, train_labels = train_images.to(device), train_labels.to(device)\n",
        "        loss, results = train_one_step(model, criteria, optimizer, train_images, train_labels)\n",
        "        train_epoch_loss += loss.item()\n",
        "        results = torch.sigmoid(results).round()\n",
        "        \n",
        "        correct_prediction = (results == train_labels).type(torch.float).sum()\n",
        "        train_epoch_correct_prediction += correct_prediction.item()\n",
        "\n",
        "    train_epoch_loss /= len(train_dataloader)\n",
        "    train_loss.append(train_epoch_loss)\n",
        "\n",
        "    epoch_train_acc = train_epoch_correct_prediction / len(train_dataset)\n",
        "    train_acc.append(epoch_train_acc)\n",
        "\n",
        "\n",
        "    ## Validation\n",
        "    val_epoch_loss = 0\n",
        "    val_epoch_correct_prediction = 0\n",
        "    for val_images, val_labels in tqdm(val_dataloader, desc=f'Validation'):\n",
        "        val_images, val_labels = val_images.to(device), val_labels.to(device)\n",
        "        loss, results = val_one_step(model, criteria, val_images, val_labels)\n",
        "        val_epoch_loss += loss.item()\n",
        "        results = torch.sigmoid(results).round()\n",
        "        \n",
        "        correct_prediction = (results == val_labels).type(torch.float).sum()\n",
        "        val_epoch_correct_prediction += correct_prediction.item()\n",
        "\n",
        "    val_epoch_loss /= len(val_dataloader)\n",
        "    val_loss.append(val_epoch_loss)\n",
        "\n",
        "    epoch_val_acc = val_epoch_correct_prediction / len(val_dataset)\n",
        "    val_acc.append(epoch_val_acc)\n",
        "    \n",
        "    print(f\"Epoch {epoch} of {n_epoch}: Train Acc: {epoch_train_acc}, Train Loss: {train_epoch_loss}\")\n",
        "    print(f\"Epoch {epoch} of {n_epoch}: Val Acc: {epoch_val_acc}, Val Loss: {val_epoch_loss}\")\n",
        "\n",
        "\n",
        "    #Early stopping logic\n",
        "\n",
        "    if val_epoch_loss < best_val_loss:\n",
        "        best_val_loss = val_epoch_loss\n",
        "        epoch_without_improvement = 0    #Reset the counter\n",
        "        torch.save(model.state_dict(), r\"C:\\Users\\Lenovo\\OneDrive\\Desktop\\CodePlayGround\\CV_with_deep_learning\\checkpoints\\alexnet_best.pth\")\n",
        "    else:\n",
        "        epoch_without_improvement += 1\n",
        "\n",
        "    if epoch_without_improvement >= patience:\n",
        "        print(f\"Early stopping at epoch {epoch+1} because no improvement in {patience} epochs.\")\n",
        "        break"
      ]
    },
    {
      "cell_type": "code",
      "execution_count": 200,
      "metadata": {},
      "outputs": [
        {
          "data": {
            "image/png": "[encoded data removed]",
            "text/plain": [
              "<Figure size 640x480 with 1 Axes>"
            ]
          },
          "metadata": {},
          "output_type": "display_data"
        }
      ],
      "source": [
        "plt.figure()\n",
        "plt.plot(train_loss, 'r.-')\n",
        "plt.plot(val_loss, 'g.-')\n",
        "plt.xlabel(\"Epoch\")\n",
        "plt.ylabel('Binary Cross Entropy Loss')\n",
        "plt.title(\"Training Loss\")\n",
        "plt.legend(['Training Loss', 'Validation Loss'])\n",
        "plt.show()"
      ]
    },
    {
      "cell_type": "code",
      "execution_count": 199,
      "metadata": {},
      "outputs": [
        {
          "data": {
            "image/png": "[encoded data removed]",
            "text/plain": [
              "<Figure size 640x480 with 1 Axes>"
            ]
          },
          "metadata": {},
          "output_type": "display_data"
        }
      ],
      "source": [
        "plt.figure()\n",
        "plt.plot(train_acc, 'r.-')\n",
        "plt.plot(val_acc, 'g.-')\n",
        "plt.xlabel(\"Epoch\")\n",
        "plt.ylabel('Accuracy')\n",
        "plt.title(\"Training Accuracy\")\n",
        "plt.legend(['Training Accuracy', 'Validation Accuracy'])\n",
        "plt.show()"
      ]
    },
    {
      "cell_type": "code",
      "execution_count": 28,
      "metadata": {},
      "outputs": [
        {
          "ename": "NameError",
          "evalue": "name 'test_dataloader' is not defined",
          "output_type": "error",
          "traceback": [
            "\u001b[1;31m---------------------------------------------------------------------------\u001b[0m",
            "\u001b[1;31mNameError\u001b[0m                                 Traceback (most recent call last)",
            "Cell \u001b[1;32mIn[28], line 19\u001b[0m\n\u001b[0;32m     16\u001b[0m     acc \u001b[38;5;241m=\u001b[39m total_correct_prediction \u001b[38;5;241m/\u001b[39m \u001b[38;5;28mlen\u001b[39m(test_dataloader)\n\u001b[0;32m     17\u001b[0m     \u001b[38;5;28;01mreturn\u001b[39;00m acc\n\u001b[1;32m---> 19\u001b[0m \u001b[38;5;28mprint\u001b[39m(\u001b[38;5;124m\"\u001b[39m\u001b[38;5;124mAccuracy of model in test datasets: \u001b[39m\u001b[38;5;124m\"\u001b[39m, evaluate(model, \u001b[43mtest_dataloader\u001b[49m))\n",
            "\u001b[1;31mNameError\u001b[0m: name 'test_dataloader' is not defined"
          ]
        }
      ],
      "source": [
        "@torch.no_grad()\n",
        "def evaluate(model, test_dataloader):\n",
        "    model.eval()\n",
        "\n",
        "    ## Forward Pass \n",
        "    total_correct_prediction = 0\n",
        "    for test_images, test_labels in tqdm(test_dataloader):\n",
        "        test_images = test_images.to(device)\n",
        "        test_labels = test_labels.to(device)\n",
        "        results = model(test_images)\n",
        "        results = results.squeeze()\n",
        "        results = torch.sigmoid(results).round()\n",
        "        correct_prediction = (results == test_labels).type(torch.float).sum()\n",
        "        total_correct_prediction += correct_prediction.item()\n",
        "\n",
        "    acc = total_correct_prediction / len(test_dataloader)\n",
        "    return acc\n",
        "\n",
        "print(\"Accuracy of model in test datasets: \", evaluate(model, test_dataloader))"
      ]
    },
    {
      "cell_type": "code",
      "execution_count": 23,
      "metadata": {},
      "outputs": [],
      "source": [
        "model = AlexNet()"
      ]
    },
    {
      "cell_type": "code",
      "execution_count": 24,
      "metadata": {},
      "outputs": [
        {
          "name": "stdout",
          "output_type": "stream",
          "text": [
            "odict_keys(['feature_extractor.0.weight', 'feature_extractor.0.bias', 'feature_extractor.3.weight', 'feature_extractor.3.bias', 'feature_extractor.6.weight', 'feature_extractor.6.bias', 'feature_extractor.8.weight', 'feature_extractor.8.bias', 'feature_extractor.10.weight', 'feature_extractor.10.bias', 'fcn.0.weight', 'fcn.0.bias', 'fcn.2.weight', 'fcn.2.bias', 'fcn.4.weight', 'fcn.4.bias'])\n"
          ]
        }
      ],
      "source": [
        "import torch\n",
        "\n",
        "# Load the saved model\n",
        "checkpoint = torch.load(r\"C:\\Users\\Lenovo\\OneDrive\\Desktop\\CodePlayGround\\CV_with_deep_learning\\checkpoints\\alexnet_best.pth\", map_location=torch.device(\"cpu\"))\n",
        "\n",
        "# Print the keys in the checkpoint\n",
        "print(checkpoint.keys())"
      ]
    },
    {
      "cell_type": "code",
      "execution_count": 26,
      "metadata": {},
      "outputs": [
        {
          "data": {
            "text/plain": [
              "AlexNet(\n",
              "  (feature_extractor): Sequential(\n",
              "    (0): Conv2d(3, 96, kernel_size=(11, 11), stride=(4, 4))\n",
              "    (1): ReLU(inplace=True)\n",
              "    (2): MaxPool2d(kernel_size=3, stride=2, padding=0, dilation=1, ceil_mode=False)\n",
              "    (3): Conv2d(96, 256, kernel_size=(5, 5), stride=(1, 1), padding=(2, 2))\n",
              "    (4): ReLU(inplace=True)\n",
              "    (5): MaxPool2d(kernel_size=3, stride=2, padding=0, dilation=1, ceil_mode=False)\n",
              "    (6): Conv2d(256, 384, kernel_size=(3, 3), stride=(1, 1), padding=(1, 1))\n",
              "    (7): ReLU(inplace=True)\n",
              "    (8): Conv2d(384, 384, kernel_size=(3, 3), stride=(1, 1), padding=(1, 1))\n",
              "    (9): ReLU(inplace=True)\n",
              "    (10): Conv2d(384, 256, kernel_size=(3, 3), stride=(1, 1), padding=(1, 1))\n",
              "    (11): ReLU(inplace=True)\n",
              "    (12): MaxPool2d(kernel_size=3, stride=2, padding=0, dilation=1, ceil_mode=False)\n",
              "    (13): Flatten(start_dim=1, end_dim=-1)\n",
              "  )\n",
              "  (fcn): Sequential(\n",
              "    (0): Linear(in_features=9216, out_features=4096, bias=True)\n",
              "    (1): ReLU(inplace=True)\n",
              "    (2): Linear(in_features=4096, out_features=4096, bias=True)\n",
              "    (3): ReLU(inplace=True)\n",
              "    (4): Linear(in_features=4096, out_features=1, bias=True)\n",
              "  )\n",
              ")"
            ]
          },
          "execution_count": 26,
          "metadata": {},
          "output_type": "execute_result"
        }
      ],
      "source": [
        "model.load_state_dict(checkpoint)  # ✅ No need for [\"model_state_dict\"]\n",
        "model.eval()"
      ]
    },
    {
      "cell_type": "code",
      "execution_count": 41,
      "metadata": {},
      "outputs": [
        {
          "data": {
            "image/png": "[encoded data removed]",
            "text/plain": [
              "<Figure size 640x480 with 1 Axes>"
            ]
          },
          "metadata": {},
          "output_type": "display_data"
        },
        {
          "name": "stdout",
          "output_type": "stream",
          "text": [
            "tensor(1.)\n"
          ]
        }
      ],
      "source": [
        "import cv2\n",
        "import torch\n",
        "import matplotlib.pyplot as plt\n",
        "import torchvision.transforms as transforms\n",
        "from PIL import Image\n",
        "\n",
        "# Load image (use PIL instead of OpenCV for compatibility with torchvision)\n",
        "image_path = r\"C:\\Users\\Lenovo\\Downloads\\download (1).jpg\"\n",
        "image = Image.open(image_path).convert(\"RGB\")  # Convert to RGB (if not already)\n",
        "\n",
        "# Display image\n",
        "plt.imshow(image)\n",
        "plt.axis(\"off\")  # Hide axes\n",
        "plt.show()\n",
        "\n",
        "# # Define transformation (Resize + Convert to Tensor + Normalize)\n",
        "# transform = transforms.Compose([\n",
        "#     transforms.Resize((224, 224)),  # Resize to match model input size\n",
        "#     transforms.ToTensor(),  # Convert image to PyTorch tensor (C, H, W)\n",
        "#     transforms.Normalize(mean=[0.5, 0.5, 0.5], std=[0.5, 0.5, 0.5])  # Normalize (example)\n",
        "# ])\n",
        "\n",
        "# Apply transformation\n",
        "image = transform(image)\n",
        "\n",
        "# Add batch dimension (for model input)\n",
        "image = image.unsqueeze(0)  # Shape: [1, C, H, W]\n",
        "\n",
        "# Ensure model is in evaluation mode\n",
        "model.eval()\n",
        "\n",
        "# Perform inference\n",
        "with torch.no_grad():  # Disable gradient computation for inference\n",
        "    result = model(image)\n",
        "    result = result.squeeze()  # Remove unnecessary dimensions\n",
        "    result = torch.sigmoid(result).round()  # Apply sigmoid & round to get class\n",
        "\n",
        "print(result)  # Output: 0 (Cat) or 1 (Dog)\n"
      ]
    },
    {
      "cell_type": "code",
      "execution_count": null,
      "metadata": {
        "id": "_VhTYxaK__oV"
      },
      "outputs": [],
      "source": [
        "# class VGG16(nn.Module):\n",
        "#     def __init__(self):\n",
        "#         super(VGG16, self). __init__()\n",
        "\n",
        "#         self.features = nn.Sequential(\n",
        "#             nn.Conv2d(3, 64, kernel_size = 3, stride = 1, padding = 1),   #<---224 *224 *3\n",
        "#             nn.ReLU(inplace = True),\n",
        "#             nn.Conv2d(64, 64, kernel_size = 3, stride = 1, padding = 1),\n",
        "#             nn.ReLU(inplace = True),\n",
        "#             nn.MaxPool2d(kernel_size = 2, stride = 2) ,          #----> 112 * 112 * 64\n",
        "\n",
        "#             nn.Conv2d(64, 128, kernel_size = 3, stride = 1, padding = 1),\n",
        "#             nn.ReLU(inplace = True),\n",
        "#             nn.Conv2d(128, 128, kernel_size = 3, stride = 1, padding = 1),\n",
        "#             nn.ReLU(inplace = True),\n",
        "#             nn.MaxPool2d(kernel_size = 2, stride = 2) ,     #---> 56 * 56 * 128\n",
        "\n",
        "#             nn.Conv2d(128, 256, kernel_size = 3, stride = 1, padding = 1),\n",
        "#             nn.ReLU(inplace = True),\n",
        "#             nn.Conv2d(256, 256, kernel_size = 3, stride = 1, padding = 1),\n",
        "#             nn.ReLU(inplace = True),\n",
        "#             nn.Conv2d(256, 256, kernel_size = 3, stride = 1, padding = 1),\n",
        "#             nn.ReLU(inplace = True),\n",
        "#             nn.MaxPool2d(kernel_size = 2, stride = 2),      #---> 28 * 28 * 256\n",
        "\n",
        "#             nn.Conv2d(256, 512, kernel_size = 3, stride = 1, padding = 1),\n",
        "#             nn.ReLU(inplace = True),\n",
        "#             nn.Conv2d(512, 512, kernel_size = 3, stride = 1, padding = 1),\n",
        "#             nn.ReLU(inplace = True),\n",
        "#             nn.Conv2d(512, 512, kernel_size = 3, stride = 1, padding = 1),\n",
        "#             nn.ReLU(inplace = True),\n",
        "#             nn.MaxPool2d(kernel_size = 2, stride = 2),      #---> 14 * 14 * 512\n",
        "\n",
        "\n",
        "#             nn.Conv2d(512, 512, kernel_size = 3, stride = 1, padding = 1),\n",
        "#             nn.ReLU(inplace = True),\n",
        "#             nn.Conv2d(512, 512, kernel_size = 3, stride = 1, padding = 1),\n",
        "#             nn.ReLU(inplace = True),\n",
        "#             nn.Conv2d(512, 512, kernel_size = 3, stride = 1, padding = 1),\n",
        "#             nn.ReLU(inplace = True),\n",
        "#             nn.MaxPool2d(kernel_size = 2, stride = 2),      #--> 7 * 7 * 512\n",
        "\n",
        "#             nn.Flatten()\n",
        "#         )\n",
        "\n",
        "#         self.fcn = nn.Sequential(\n",
        "#             nn.Linear(7 * 7 * 512, 4096),\n",
        "#             nn.ReLU(inplace = True),\n",
        "#             nn.Linear(4096, 4096),\n",
        "#             nn.ReLU(inplace = True),\n",
        "#             nn.Linear(4096, 1)\n",
        "#         )\n",
        "\n",
        "#     def forward(self, x):\n",
        "#         feature_map = self.features(x)\n",
        "#         output = self.fcn(feature_map)\n",
        "#         return output.shape\n",
        "\n",
        "# vgg16 = VGG16()"
      ]
    },
    {
      "cell_type": "code",
      "execution_count": 198,
      "metadata": {
        "id": "MpqV4TSrAE3Z"
      },
      "outputs": [],
      "source": [
        "# for image, _ in train_dataloader:\n",
        "#     image = image[0].unsqueeze(0)\n",
        "#     print(vgg16(image))\n",
        "#     break"
      ]
    }
  ],
  "metadata": {
    "accelerator": "GPU",
    "colab": {
      "gpuType": "T4",
      "provenance": []
    },
    "kernelspec": {
      "display_name": "Python 3",
      "name": "python3"
    },
    "language_info": {
      "codemirror_mode": {
        "name": "ipython",
        "version": 3
      },
      "file_extension": ".py",
      "mimetype": "text/x-python",
      "name": "python",
      "nbconvert_exporter": "python",
      "pygments_lexer": "ipython3",
      "version": "3.13.1"
    }
  },
  "nbformat": 4,
  "nbformat_minor": 0
}
